{
 "cells": [
  {
   "cell_type": "code",
   "execution_count": 12,
   "id": "ae89cced-1dad-4c30-ae10-05c74b4c1c3a",
   "metadata": {},
   "outputs": [
    {
     "name": "stdout",
     "output_type": "stream",
     "text": [
      "There was a man named Rei, \n",
      "he is 23 years old.\n",
      "Rei is male!\n"
     ]
    }
   ],
   "source": [
    "# Variables and Data Types\n",
    "character_name = \"Rei\"\n",
    "character_age = \"23\"\n",
    "is_male = True\n",
    "print(\"There was a man named \" + character_name + \", \")\n",
    "print(\"he is \" + character_age + \" years old.\")\n",
    "if is_male == True:\n",
    "    print(character_name + \" is male!\")\n",
    "else:\n",
    "    print(character_name + \" is female!\")"
   ]
  },
  {
   "cell_type": "code",
   "execution_count": 56,
   "id": "f7234358-4089-46de-a0cc-ef001fddb1ec",
   "metadata": {},
   "outputs": [
    {
     "name": "stdout",
     "output_type": "stream",
     "text": [
      "Math Academy\n",
      "Math\n",
      "Academy\n",
      "Math\"Academy\"\n",
      "Math Academy sucks\n",
      "math academy\n",
      "MATH ACADEMY\n",
      "False\n",
      "False\n",
      "True\n",
      "12\n",
      "M\n",
      "0\n",
      "Science Academy\n"
     ]
    }
   ],
   "source": [
    "# Working with strings\n",
    "print(\"Math Academy\")\n",
    "print(\"Math\\nAcademy\")\n",
    "print(\"Math\\\"Academy\\\"\")\n",
    "phrase = \"Math Academy\"\n",
    "print(phrase + \" sucks\")\n",
    "print(phrase.lower())\n",
    "print(phrase.upper())\n",
    "print(phrase.isupper())\n",
    "print(phrase.islower())\n",
    "print(phrase.upper().isupper())\n",
    "print(len(phrase))\n",
    "print(phrase[0])\n",
    "print(phrase.index(\"Math\")) # Prints the index point of the first part of the string (math starts at index 0)\n",
    "print(phrase.replace(\"Math\", \"Science\"))"
   ]
  },
  {
   "cell_type": "code",
   "execution_count": 68,
   "id": "05880a5c-0c23-4236-a8f8-84fa336fe73d",
   "metadata": {},
   "outputs": [
    {
     "name": "stdout",
     "output_type": "stream",
     "text": [
      "-10\n",
      "10\n",
      "25\n",
      "5\n",
      "4\n"
     ]
    }
   ],
   "source": [
    "# Working with numbers\n",
    "my_num = -10\n",
    "print(my_num)\n",
    "print(abs(my_num)) # absolute value\n",
    "print(pow(5,2)) # 5 to the power of 2\n",
    "print(max(5,4)) # Prints the maximum number\n",
    "print(min(5,4)) # Prints minimum number"
   ]
  },
  {
   "cell_type": "code",
   "execution_count": 84,
   "id": "81db1419-a97d-436c-b9df-80999d64f453",
   "metadata": {},
   "outputs": [
    {
     "name": "stdin",
     "output_type": "stream",
     "text": [
      "Enter your name Rei\n",
      "Enter your age 19\n"
     ]
    },
    {
     "name": "stdout",
     "output_type": "stream",
     "text": [
      "Hello Rei! You are bebe!\n"
     ]
    }
   ],
   "source": [
    "# Input from users\n",
    "name = input(\"Enter your name\")\n",
    "age = input(\"Enter your age\")\n",
    "age = int(age)\n",
    "if age > 20:\n",
    "    age = \"old\"\n",
    "else:\n",
    "    age = \"bebe\"\n",
    "print(\"Hello \" + name + \"!\" + \" You are \" + age + \"!\")"
   ]
  },
  {
   "cell_type": "code",
   "execution_count": 92,
   "id": "de923197-1707-4124-8576-b7f534a43c2d",
   "metadata": {},
   "outputs": [
    {
     "name": "stdin",
     "output_type": "stream",
     "text": [
      "Enter first number: 2\n",
      "Enter second number: 2\n"
     ]
    },
    {
     "name": "stdout",
     "output_type": "stream",
     "text": [
      "4.0\n"
     ]
    }
   ],
   "source": [
    "# Basic Calculator\n",
    "num_1 = input(\"Enter first number:\")\n",
    "num_2 = input(\"Enter second number:\")\n",
    "result = float(num_1) + float(num_2)\n",
    "\n",
    "print(result)"
   ]
  },
  {
   "cell_type": "code",
   "execution_count": 104,
   "id": "10cfbc57-750e-4c26-b6b2-2d440455e3f2",
   "metadata": {},
   "outputs": [
    {
     "name": "stdout",
     "output_type": "stream",
     "text": [
      "['Ray', 'Rei', 'Richard']\n",
      "Rei\n",
      "['Rei', 'Richard']\n",
      "['Richard', 'Bob']\n"
     ]
    }
   ],
   "source": [
    "# List\n",
    "friends = [\"Ray\", \"Rei\", \"Richard\"]\n",
    "print(friends)\n",
    "print(friends[1])\n",
    "print(friends[1:])\n",
    "friends_2 = [\"Ray\", \"Rei\", \"Richard\", \"Bob\", \"Simon\"]\n",
    "print(friends_2[2:4])"
   ]
  },
  {
   "cell_type": "code",
   "execution_count": 116,
   "id": "ae568117-15bf-49d2-b597-8a5c7b794f85",
   "metadata": {},
   "outputs": [
    {
     "name": "stdout",
     "output_type": "stream",
     "text": [
      "None\n",
      "['Ray', 'Rei', 'Richard', 'Bob', 'Simon', [1, 2, 3, 4, 5]]\n",
      "['Ray', 'Rei', 'Richard', 'Bob', 'Simon', [1, 2, 3, 4, 5], 'Steve']\n",
      "['Ray', 'Ricardo', 'Rei', 'Richard', 'Bob', 'Simon', [1, 2, 3, 4, 5], 'Steve']\n"
     ]
    }
   ],
   "source": [
    "# List functions\n",
    "number = [1,2,3,4,5]\n",
    "friends = [\"Ray\", \"Rei\", \"Richard\", \"Bob\", \"Simon\"]\n",
    "fappend = friends.append(number)\n",
    "print(fappend)\n",
    "print(friends)\n",
    "friends.append(\"Steve\")\n",
    "print(friends)\n",
    "friends.insert(1,\"Ricardo\")\n",
    "print(friends)"
   ]
  },
  {
   "cell_type": "code",
   "execution_count": 122,
   "id": "9f53ec50-4d04-4978-b221-b87c5db274ac",
   "metadata": {},
   "outputs": [
    {
     "name": "stdout",
     "output_type": "stream",
     "text": [
      "4\n"
     ]
    }
   ],
   "source": [
    "# Tuples\n",
    "coordinates = (4,1)\n",
    "print(coordinates[0])"
   ]
  },
  {
   "cell_type": "code",
   "execution_count": 16,
   "id": "9062eb87-dfe7-4c41-b53e-7143a25a491e",
   "metadata": {},
   "outputs": [
    {
     "name": "stdin",
     "output_type": "stream",
     "text": [
      "Username: Rei\n"
     ]
    },
    {
     "name": "stdout",
     "output_type": "stream",
     "text": [
      "Hello Rei!\n",
      "Hello Ray you are 23\n"
     ]
    }
   ],
   "source": [
    "# Functions\n",
    "def greet():\n",
    "    name = input(\"Username:\")\n",
    "    print(f\"Hello {name}!\")\n",
    "\n",
    "greet()\n",
    "\n",
    "def greet(name,age):\n",
    "    print(\"Hello \" + name + \" you are \" + age)\n",
    "\n",
    "greet(\"Ray\",\"23\")"
   ]
  },
  {
   "cell_type": "code",
   "execution_count": 32,
   "id": "3e4275c0-f0ce-411b-8fda-ee25a82eada2",
   "metadata": {},
   "outputs": [
    {
     "name": "stdout",
     "output_type": "stream",
     "text": [
      "64\n"
     ]
    }
   ],
   "source": [
    "# Return statements\n",
    "def cube(num):\n",
    "    num*num*num\n",
    "\n",
    "cube(3)\n",
    "\n",
    "def cube(num):\n",
    "    return num*num*num # Return tells the function to return the result of the code\n",
    "\n",
    "cube(3)\n",
    "\n",
    "def cube(num):\n",
    "    return num*num*num # Return tells the function to return the result of the code\n",
    "\n",
    "result = cube(4)\n",
    "print(result)"
   ]
  },
  {
   "cell_type": "code",
   "execution_count": 44,
   "id": "abf66df5-7fea-4a51-a857-b3c6ea4621db",
   "metadata": {},
   "outputs": [
    {
     "name": "stdout",
     "output_type": "stream",
     "text": [
      "I eat breakfast\n",
      "I bring sunglasses\n"
     ]
    }
   ],
   "source": [
    "# If statements\n",
    "hungry = True\n",
    "\n",
    "if hungry == True:\n",
    "    print(\"I eat breakfast\")\n",
    "else:\n",
    "    print(\"I go for a walk\")\n",
    "\n",
    "def weather(is_raining):\n",
    "    if is_raining == True:\n",
    "        print(\"I bring my umbrella\")\n",
    "    else:\n",
    "        print(\"I bring sunglasses\")\n",
    "    \n",
    "weather(False)"
   ]
  },
  {
   "cell_type": "code",
   "execution_count": 52,
   "id": "b4233987-af9e-4bea-beed-9cd8b5bb21f3",
   "metadata": {},
   "outputs": [
    {
     "name": "stdout",
     "output_type": "stream",
     "text": [
      "41323 is the largest number\n"
     ]
    },
    {
     "data": {
      "text/plain": [
       "123123"
      ]
     },
     "execution_count": 52,
     "metadata": {},
     "output_type": "execute_result"
    }
   ],
   "source": [
    "# If statements and comparisons \n",
    "def max_num(num1,num2,num3):\n",
    "    if num1 >= num2 and num1 >= num3:\n",
    "        print(f\"{num1} is the largest number\")\n",
    "    elif num2 >= num1 and num2 >= num3:\n",
    "        print(f\"{num2} is the largest number\")\n",
    "    else:\n",
    "        print(f\"{num3} is the largest number\")\n",
    "        \n",
    "\n",
    "max_num(41323,1231,4532)\n",
    "\n",
    "def max_num2(num1,num2,num3):\n",
    "    if num1 >= num2 and num1 >= num3:\n",
    "        return num1\n",
    "    elif num2 >= num1 and num2 >= num3:\n",
    "        return num2\n",
    "    else:\n",
    "        return num3\n",
    "\n",
    "max_num2(2131,123123,1231)\n",
    "        "
   ]
  },
  {
   "cell_type": "code",
   "execution_count": 66,
   "id": "4eb98b1a-a043-435a-9699-78c73e14106b",
   "metadata": {},
   "outputs": [
    {
     "name": "stdin",
     "output_type": "stream",
     "text": [
      "Number 1 22\n",
      "Operator ]\n",
      "Number 2 2\n"
     ]
    },
    {
     "name": "stdout",
     "output_type": "stream",
     "text": [
      "invalid operator\n"
     ]
    }
   ],
   "source": [
    "# Building a better calculator \n",
    "try:\n",
    "    num1 = float(input(\"Number 1\"))\n",
    "    oper = input(\"Operator\")\n",
    "    num2 = float(input(\"Number 2\"))\n",
    "except:\n",
    "    print(\"invalid number or operator\")\n",
    "\n",
    "if oper == \"+\":\n",
    "    print(num1 + num2)\n",
    "elif oper == \"-\":\n",
    "    print(num1 - num2)\n",
    "elif oper == \"/\":\n",
    "    print(num1/num2)\n",
    "elif oper == \"*\":\n",
    "    print(num1 * num2)\n",
    "elif oper == \"^\":\n",
    "    print(pow(num1,num2))\n",
    "else:\n",
    "    print(\"invalid operator\")"
   ]
  },
  {
   "cell_type": "code",
   "execution_count": 74,
   "id": "62387cba-08a7-4179-9dec-6dbeecaa26b1",
   "metadata": {},
   "outputs": [
    {
     "name": "stdout",
     "output_type": "stream",
     "text": [
      "March\n",
      "December\n",
      "Not a valid key\n"
     ]
    }
   ],
   "source": [
    "# Dictionaries \n",
    "month_conversions = {\n",
    "    \"Jan\": \"January\",\n",
    "    \"Feb\": \"February\",\n",
    "    \"Mar\": \"March\",\n",
    "    \"Apr\": \"April\",\n",
    "    \"May\": \"May\",\n",
    "    \"Jun\": \"June\",\n",
    "    \"Jul\": \"July\",\n",
    "    \"Aug\": \"August\",\n",
    "    \"Sep\": \"September\",\n",
    "    \"Oct\": \"October\",\n",
    "    \"Nov\": \"November\",\n",
    "    \"Dec\": \"December\",\n",
    "}\n",
    "\n",
    "print(month_conversions[\"Mar\"])\n",
    "print(month_conversions.get(\"Dec\"))\n",
    "print(month_conversions.get(\"Low\",\"Not a valid key\")) # Basically tries for the first key \"Low\" if it cant find it, will print the second part."
   ]
  },
  {
   "cell_type": "code",
   "execution_count": 7,
   "id": "45929e67-c42e-45db-88b4-751023a935a4",
   "metadata": {},
   "outputs": [
    {
     "name": "stdout",
     "output_type": "stream",
     "text": [
      "5\n",
      "4\n",
      "3\n",
      "2\n",
      "1\n",
      "0\n",
      "Blast off!\n"
     ]
    }
   ],
   "source": [
    "# While loop\n",
    "i = 5\n",
    "\n",
    "while i >= 0:\n",
    "    print(i)\n",
    "    i -= 1 \n",
    "print(\"Blast off!\")"
   ]
  },
  {
   "cell_type": "code",
   "execution_count": null,
   "id": "b2f49268-568b-4824-a615-b0287b617b4e",
   "metadata": {},
   "outputs": [
    {
     "name": "stdin",
     "output_type": "stream",
     "text": [
      "Guess wedwad\n"
     ]
    },
    {
     "name": "stdout",
     "output_type": "stream",
     "text": [
      "You have 2 attempts left\n"
     ]
    },
    {
     "name": "stdin",
     "output_type": "stream",
     "text": [
      "Guess awdawd\n"
     ]
    },
    {
     "name": "stdout",
     "output_type": "stream",
     "text": [
      "You have 1 attempts left\n"
     ]
    },
    {
     "name": "stdin",
     "output_type": "stream",
     "text": [
      "Guess awdad\n"
     ]
    },
    {
     "name": "stdout",
     "output_type": "stream",
     "text": [
      "You have 0 attempts left\n"
     ]
    }
   ],
   "source": [
    "# Building a guessing game\n",
    "\n",
    "secret_word = \"giraffe\"\n",
    "guesses = \"\"\n",
    "attempts = 3\n",
    "lose = False\n",
    "\n",
    "while guesses != secret_word:\n",
    "    if attempts > 0:\n",
    "        guesses = input(\"Guess\")\n",
    "        attempts -= 1\n",
    "        print(f\"You have {attempts} attempts left\")\n",
    "    else:\n",
    "        lose = True\n",
    "    \n",
    "    \n",
    "if lose:\n",
    "    print(\"You lose ;(\")\n",
    "else:\n",
    "    print(\"You win!\")"
   ]
  },
  {
   "cell_type": "code",
   "execution_count": 35,
   "id": "9a0f6332-24f3-4fee-a7bc-8a3ec6836fb4",
   "metadata": {},
   "outputs": [
    {
     "name": "stdout",
     "output_type": "stream",
     "text": [
      "M\n",
      "a\n",
      "t\n",
      "h\n",
      " \n",
      "A\n",
      "c\n",
      "a\n",
      "d\n",
      "e\n",
      "m\n",
      "y\n",
      "12\n",
      "1\n",
      "2\n",
      "3\n",
      "4\n",
      "\n",
      "\n",
      "3\n",
      "4\n",
      "5\n",
      "6\n",
      "7\n",
      "8\n",
      "9\n"
     ]
    }
   ],
   "source": [
    "# For loops\n",
    "count = 0\n",
    "\n",
    "for letter in \"Math Academy\": # For every letter in giraffe academy... \n",
    "    print(letter) \n",
    "    count = count + 1\n",
    "\n",
    "print(count)\n",
    "\n",
    "numbers = [1,2,3,4]\n",
    "for number in numbers:\n",
    "    print(number)\n",
    "\n",
    "print(\"\\n\")\n",
    "\n",
    "for index in range(3,10):\n",
    "    print(index)\n"
   ]
  },
  {
   "cell_type": "code",
   "execution_count": 43,
   "id": "34f8b6c1-b11e-4d5b-afa3-a155b8a7ad21",
   "metadata": {},
   "outputs": [
    {
     "data": {
      "text/plain": [
       "81"
      ]
     },
     "execution_count": 43,
     "metadata": {},
     "output_type": "execute_result"
    }
   ],
   "source": [
    "# Exponent Function\n",
    "def raise_to_power(base_num, pow_num):\n",
    "    result = 1\n",
    "    for index in range(pow_num):\n",
    "        result = result * base_num\n",
    "    return result\n",
    "\n",
    "raise_to_power(3,4)"
   ]
  },
  {
   "cell_type": "code",
   "execution_count": 61,
   "id": "36ebb5f1-61ad-495b-930b-1f73c8580d11",
   "metadata": {},
   "outputs": [
    {
     "name": "stdout",
     "output_type": "stream",
     "text": [
      "6 \n",
      "\n",
      "1\n",
      "2\n",
      "3\n",
      "4\n",
      "5\n",
      "6\n",
      "7\n",
      "8\n",
      "9\n",
      "0\n"
     ]
    }
   ],
   "source": [
    "# 2d list and nested loops\n",
    "number_grid = [\n",
    "    [1,2,3],\n",
    "    [4,5,6],\n",
    "    [7,8,9],\n",
    "    [0]\n",
    "]\n",
    "\n",
    "print(number_grid[1][2], \"\\n\")\n",
    "\n",
    "for row in number_grid:\n",
    "    for col in row:\n",
    "        print(col) # for row grabs the rows 4 rows, for col in row grabs each col in rows "
   ]
  },
  {
   "cell_type": "code",
   "execution_count": 81,
   "id": "e2cf8db0-41aa-460b-9ab0-a81b271bbec2",
   "metadata": {},
   "outputs": [
    {
     "name": "stdin",
     "output_type": "stream",
     "text": [
      "enter a phrase I LOVE YOU BEBE\n"
     ]
    },
    {
     "name": "stdout",
     "output_type": "stream",
     "text": [
      "g LgVg Ygg BgBg\n"
     ]
    }
   ],
   "source": [
    "# Building a translator\n",
    "def translate(phrase):\n",
    "    translation = \"\"\n",
    "    for letter in phrase:\n",
    "        if letter.lower() in \"aeiou\": # If the letter in the phrase, exist in this string \n",
    "            translation = translation + \"g\" # Append g to the empty string\n",
    "        else:\n",
    "            translation = translation + letter # Append the original letter to the string\n",
    "    return translation\n",
    "\n",
    "print(translate(input(\"enter a phrase\")))"
   ]
  },
  {
   "cell_type": "code",
   "execution_count": 12,
   "id": "ebd10463-848c-4f6a-a327-b04dec4d8258",
   "metadata": {},
   "outputs": [
    {
     "name": "stdout",
     "output_type": "stream",
     "text": [
      "division by zero\n"
     ]
    }
   ],
   "source": [
    "# Try/Except\n",
    "try:\n",
    "    value = 10 / 0 # If we change value to a valid argument, and input a non int value then we get the value error output.\n",
    "    number = int(input(\"Enter number\"))\n",
    "    print(number)\n",
    "except ZeroDivisionError as err: \n",
    "    print(err) # This tells python to just print the actual error itself\n",
    "except ValueError as err:\n",
    "    print(err)\n",
    "\n"
   ]
  },
  {
   "cell_type": "code",
   "execution_count": 43,
   "id": "182208fe-2a86-4d1f-96cf-cf0fdb7e870d",
   "metadata": {},
   "outputs": [
    {
     "name": "stdout",
     "output_type": "stream",
     "text": [
      "True\n",
      "6/4/25\n",
      "Learn Python \n",
      "https://www.youtube.com/watch?v=rfscVS0vtbw&t=5065s 1:24 # Functions section\n",
      "notebook: Python_Basics\n",
      "\n",
      "Linear Alg\n",
      "https://youtube.com/playlist?list=PLZHQObOWTQDPD3MizzM2xVFitgF8hE_ab&si=JIilYCRPFP8dfhlw chapter 2 (completed)\n",
      "notes: Wexford notebook  \n",
      "\n",
      "Japanese\n",
      "Wrote down an actionable plan to tackle Japanese learning\n",
      "\n",
      "---------------------------------------------------------------------------------\n",
      "6/5/25\n",
      "Learn Python\n",
      "https://www.youtube.com/watch?v=rfscVS0vtbw&t=5066s \n",
      "notebook: Python_Basics\n",
      "124 - 3:00 on comments section\n",
      "\n",
      "Linear Alg\n",
      "https://youtube.com/playlist?list=PLZHQObOWTQDPD3MizzM2xVFitgF8hE_ab&si=JIilYCRPFP8dfhlw chapter 4 (completed but not reviewed)\n",
      "notes: notebook  \n",
      "\n",
      "Japanese \n",
      "Part 1 and 2 \n",
      "\n",
      "---------------------------------------------------------------------------------\n",
      "6/6/25\n",
      "Learn Python\n",
      "https://www.youtube.com/watch?v=rfscVS0vtbw&t=5066s \n",
      "notebook: Python_Basics\n",
      "3:00 - \n",
      "\n",
      "Linear Alg\n",
      "https://youtube.com/playlist?list=PLZHQObOWTQDPD3MizzM2xVFitgF8hE_ab&si=JIilYCRPFP8dfhlw (Review chapter 1-4)\n",
      "notes: notebook\n",
      "\n",
      "Japanese \n",
      "Review part 1 and 2\n"
     ]
    }
   ],
   "source": [
    "# Reading files \n",
    "\n",
    "data = open(\"check_in.txt\", \"r\")\n",
    "\n",
    "print(data.readable()) # Prints if the file is readable in the form of a boolean value\n",
    "print(data.read())\n",
    "# print(data.readline()) reads line and readlines reads multiple\n",
    "\n",
    "data.close()"
   ]
  },
  {
   "cell_type": "code",
   "execution_count": 47,
   "id": "dc542b71-113d-44ab-bd62-f6e7cc16eb5a",
   "metadata": {},
   "outputs": [],
   "source": [
    "# Appending to file\n",
    "data = open(\"check_in.txt\", \"a\")\n",
    "\n",
    "data.write(\"Review part 1 and 2\") # Writes to file\n",
    "data.write(\"\\nWrites to new line\")\n",
    "\n",
    "data.close()"
   ]
  },
  {
   "cell_type": "code",
   "execution_count": null,
   "id": "9f5ce9f2-6233-41ee-bf11-7cfe3f6fb974",
   "metadata": {},
   "outputs": [],
   "source": [
    "# Write to file\n",
    "\n",
    "data = open(\"check.txt\", \"w\") # If the file already exist it will clear it and write, if not it will create the file\n",
    "\n",
    "data.write(\"Review part 1 and 2\") # Writes to new file created\n",
    " \n",
    "data.close()"
   ]
  },
  {
   "cell_type": "code",
   "execution_count": 7,
   "id": "b59d91bb-eabe-4ad1-bfde-02e8fd4c5464",
   "metadata": {},
   "outputs": [
    {
     "ename": "AttributeError",
     "evalue": "type object 'student' has no attribute 'name'",
     "output_type": "error",
     "traceback": [
      "\u001b[1;31m---------------------------------------------------------------------------\u001b[0m",
      "\u001b[1;31mAttributeError\u001b[0m                            Traceback (most recent call last)",
      "Cell \u001b[1;32mIn[7], line 13\u001b[0m\n\u001b[0;32m     10\u001b[0m \u001b[38;5;66;03m# Object is an instance of a class\u001b[39;00m\n\u001b[0;32m     11\u001b[0m student1 \u001b[38;5;241m=\u001b[39m Student(\u001b[38;5;124m\"\u001b[39m\u001b[38;5;124mRei\u001b[39m\u001b[38;5;124m\"\u001b[39m,\u001b[38;5;124m\"\u001b[39m\u001b[38;5;124mElectrical Engineering\u001b[39m\u001b[38;5;124m\"\u001b[39m,\u001b[38;5;124m\"\u001b[39m\u001b[38;5;124m3.24\u001b[39m\u001b[38;5;124m\"\u001b[39m, \u001b[38;5;28;01mTrue\u001b[39;00m) \u001b[38;5;66;03m# student 1 = student object\u001b[39;00m\n\u001b[1;32m---> 13\u001b[0m \u001b[38;5;28mprint\u001b[39m(student\u001b[38;5;241m.\u001b[39mname)\n",
      "\u001b[1;31mAttributeError\u001b[0m: type object 'student' has no attribute 'name'"
     ]
    }
   ],
   "source": [
    "# Classses and Objects\n",
    "class Student:  \n",
    "\n",
    "    def __init__(self, name, major, gpa, athlete): # Initialize the student data type and in () defining what student is\n",
    "        self.name = name\n",
    "        self.major = major\n",
    "        self.gpa = gpa\n",
    "        self.athlete = athlete \n"
   ]
  },
  {
   "cell_type": "code",
   "execution_count": 9,
   "id": "a378c9a9-04c3-4c73-9a1b-3037bde5f177",
   "metadata": {},
   "outputs": [
    {
     "ename": "ModuleNotFoundError",
     "evalue": "No module named 'Student'",
     "output_type": "error",
     "traceback": [
      "\u001b[1;31m---------------------------------------------------------------------------\u001b[0m",
      "\u001b[1;31mModuleNotFoundError\u001b[0m                       Traceback (most recent call last)",
      "Cell \u001b[1;32mIn[9], line 2\u001b[0m\n\u001b[0;32m      1\u001b[0m \u001b[38;5;66;03m# Object is an instance of a class\u001b[39;00m\n\u001b[1;32m----> 2\u001b[0m \u001b[38;5;28;01mfrom\u001b[39;00m \u001b[38;5;21;01mStudent\u001b[39;00m \u001b[38;5;28;01mimport\u001b[39;00m Student\n\u001b[0;32m      4\u001b[0m student1 \u001b[38;5;241m=\u001b[39m Student(\u001b[38;5;124m\"\u001b[39m\u001b[38;5;124mRei\u001b[39m\u001b[38;5;124m\"\u001b[39m,\u001b[38;5;124m\"\u001b[39m\u001b[38;5;124mElectrical Engineering\u001b[39m\u001b[38;5;124m\"\u001b[39m,\u001b[38;5;124m\"\u001b[39m\u001b[38;5;124m3.24\u001b[39m\u001b[38;5;124m\"\u001b[39m, \u001b[38;5;28;01mTrue\u001b[39;00m) \u001b[38;5;66;03m# student 1 = student object\u001b[39;00m\n\u001b[0;32m      6\u001b[0m \u001b[38;5;28mprint\u001b[39m(student\u001b[38;5;241m.\u001b[39mname)\n",
      "\u001b[1;31mModuleNotFoundError\u001b[0m: No module named 'Student'"
     ]
    }
   ],
   "source": [
    "# Object is an instance of a class\n",
    "from Student import Student\n",
    "\n",
    "student1 = Student(\"Rei\",\"Electrical Engineering\",\"3.24\", True) # student 1 = student object\n",
    "\n",
    "print(student.name)"
   ]
  },
  {
   "cell_type": "code",
   "execution_count": 29,
   "id": "4f7b2fb7-7fbf-4ff4-b99e-f42ca2a81772",
   "metadata": {},
   "outputs": [
    {
     "name": "stdin",
     "output_type": "stream",
     "text": [
      "['What is my cats name?\\n(a) Steve\\n(b) Bob\\n(c) Harold\\n\\n', 'What is my favorite sport?\\n(a) Volleyball\\n(b) Basketball\\n(c) Tennis\\n\\n', 'What is my favorite drink?\\n(a) Water\\n(b) Tea\\n(c) Coffee\\n\\n'] awd\n",
      "['What is my cats name?\\n(a) Steve\\n(b) Bob\\n(c) Harold\\n\\n', 'What is my favorite sport?\\n(a) Volleyball\\n(b) Basketball\\n(c) Tennis\\n\\n', 'What is my favorite drink?\\n(a) Water\\n(b) Tea\\n(c) Coffee\\n\\n'] awd\n",
      "['What is my cats name?\\n(a) Steve\\n(b) Bob\\n(c) Harold\\n\\n', 'What is my favorite sport?\\n(a) Volleyball\\n(b) Basketball\\n(c) Tennis\\n\\n', 'What is my favorite drink?\\n(a) Water\\n(b) Tea\\n(c) Coffee\\n\\n'] awd\n"
     ]
    },
    {
     "name": "stdout",
     "output_type": "stream",
     "text": [
      "You got 0 right out of 3\n"
     ]
    }
   ],
   "source": [
    "class question:\n",
    "    def __init__(self,prompt,answer):\n",
    "        self.prompt = prompt\n",
    "        self.answer = answer\n",
    "        \n",
    "questions_prompts = [\n",
    "    \"What is my cats name?\\n(a) Steve\\n(b) Bob\\n(c) Harold\\n\\n\",\n",
    "    \"What is my favorite sport?\\n(a) Volleyball\\n(b) Basketball\\n(c) Tennis\\n\\n\",\n",
    "    \"What is my favorite drink?\\n(a) Water\\n(b) Tea\\n(c) Coffee\\n\\n\",\n",
    "]\n",
    "\n",
    "questions = [\n",
    "    question(questions_prompts[0], \"c\"),\n",
    "    question(questions_prompts[1], \"a\"),\n",
    "    question(questions_prompts[2], \"b\"),\n",
    "] \n",
    "\n",
    "def run_test(questions):\n",
    "    score = 0\n",
    "    for question in questions:\n",
    "        answer = input(questions_prompts)\n",
    "        if answer == question.answer:\n",
    "            score += 1\n",
    "    print(f\"You got {str(score)} right out of {(len(questions))}\")\n",
    "\n",
    "run_test(questions)"
   ]
  },
  {
   "cell_type": "code",
   "execution_count": null,
   "id": "76514536-74e4-4c54-bd0c-02541a0133d3",
   "metadata": {},
   "outputs": [],
   "source": []
  }
 ],
 "metadata": {
  "kernelspec": {
   "display_name": "Python [conda env:base] *",
   "language": "python",
   "name": "conda-base-py"
  },
  "language_info": {
   "codemirror_mode": {
    "name": "ipython",
    "version": 3
   },
   "file_extension": ".py",
   "mimetype": "text/x-python",
   "name": "python",
   "nbconvert_exporter": "python",
   "pygments_lexer": "ipython3",
   "version": "3.12.7"
  }
 },
 "nbformat": 4,
 "nbformat_minor": 5
}
